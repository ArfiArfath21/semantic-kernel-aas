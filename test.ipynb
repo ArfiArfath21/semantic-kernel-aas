{
 "cells": [
  {
   "cell_type": "code",
   "execution_count": 11,
   "metadata": {},
   "outputs": [],
   "source": [
    "import os\n",
    "\n",
    "import semantic_kernel as sk\n",
    "import semantic_kernel.connectors.ai.open_ai as sk_oai\n",
    "from semantic_kernel.connectors.ai.open_ai import OpenAIChatCompletion\n",
    "from semantic_kernel.prompt_template.input_variable import InputVariable\n",
    "from semantic_kernel.contents.chat_history import ChatHistory\n",
    "from semantic_kernel.functions.kernel_arguments import KernelArguments"
   ]
  },
  {
   "cell_type": "code",
   "execution_count": 12,
   "metadata": {},
   "outputs": [],
   "source": [
    "api_key, org_id = sk.openai_settings_from_dot_env()\n",
    "kernel = sk.Kernel()\n",
    "kernel.add_service(OpenAIChatCompletion(service_id=\"oai_chat_gpt\", ai_model_id=\"gpt-3.5-turbo-1106\", api_key=api_key, org_id=org_id))\n"
   ]
  },
  {
   "cell_type": "code",
   "execution_count": 13,
   "metadata": {},
   "outputs": [],
   "source": [
    "## Function from Prompt\n",
    "prompt = \"\"\"\n",
    "{{$user_input}}\n",
    "\n",
    "Write an email body with the context given above.\n",
    "Do not need subject, signatures or anything else. Just plain body. No other messages or anything else.\n",
    "\"\"\"\n",
    "execution_settings = sk_oai.OpenAIChatPromptExecutionSettings(\n",
    "        service_id=\"oai_chat_gpt\",\n",
    "        ai_model_id=\"gpt-3.5-turbo-1106\",\n",
    "        max_tokens=2000,\n",
    "        temperature=0.7,\n",
    "    )\n",
    "\n",
    "prompt_template_config = sk.PromptTemplateConfig(\n",
    "    template=prompt,\n",
    "    name=\"email body\",\n",
    "    template_format=\"semantic-kernel\",\n",
    "    input_variables=[\n",
    "        InputVariable(name=\"user_input\", description=\"The user input\", is_required=True),\n",
    "    ],\n",
    "    execution_settings=execution_settings\n",
    ")\n",
    "\n",
    "emailfunction = kernel.create_function_from_prompt(function_name=\"EmailContent\", plugin_name=\"EmailHelpers\", prompt_template_config=prompt_template_config)\n",
    "# email_body = await kernel.invoke(emailfunction, sk.KernelArguments(user_input=\"Ask everyone invited to join the call since it is time. And mention that this mail was generated using Semantic Kernel, the tech that is the main showcase of this call.\"))\n",
    "# print(email_body)"
   ]
  },
  {
   "cell_type": "code",
   "execution_count": 14,
   "metadata": {},
   "outputs": [
    {
     "data": {
      "text/plain": [
       "KernelPlugin(name='EmailPlugins', description=None, functions={'sendEmail': KernelFunctionFromMethod(metadata=KernelFunctionMetadata(name='sendEmail', plugin_name='EmailPlugins', description='Send Email to the recipient with the email body', parameters=[KernelParameterMetadata(name='recipient', description='The recipient is an emailid string', default_value=None, type_='str', is_required=True, type_object=<class 'str'>), KernelParameterMetadata(name='email_body', description='The email_body is a string', default_value=None, type_='str', is_required=True, type_object=<class 'str'>)], is_prompt=False, is_asynchronous=False, return_parameter=KernelParameterMetadata(name='return', description='', default_value=None, type_='None', is_required=False, type_object=None)), method=<bound method Email.send_email of <native_function.Email object at 0x11f776c90>>, stream_method=None)})"
      ]
     },
     "execution_count": 14,
     "metadata": {},
     "output_type": "execute_result"
    }
   ],
   "source": [
    "sendplugin = kernel.import_native_plugin_from_directory(\"plugins\", \"EmailPlugins\")\n",
    "sendplugin"
   ]
  },
  {
   "cell_type": "code",
   "execution_count": 16,
   "metadata": {},
   "outputs": [
    {
     "name": "stderr",
     "output_type": "stream",
     "text": [
      "Error occurred while invoking function sendEmail: There may be at most 1 To headers in a message\n"
     ]
    },
    {
     "ename": "KernelInvokeException",
     "evalue": "Error occurred while invoking function: 'EmailPlugins.sendEmail'",
     "output_type": "error",
     "traceback": [
      "\u001b[0;31m---------------------------------------------------------------------------\u001b[0m",
      "\u001b[0;31mValueError\u001b[0m                                Traceback (most recent call last)",
      "File \u001b[0;32m~/Documents/POC/SemanticKernel/.venv/lib/python3.11/site-packages/semantic_kernel/functions/kernel_function.py:188\u001b[0m, in \u001b[0;36mKernelFunction.invoke\u001b[0;34m(self, kernel, arguments, **kwargs)\u001b[0m\n\u001b[1;32m    187\u001b[0m \u001b[39mtry\u001b[39;00m:\n\u001b[0;32m--> 188\u001b[0m     \u001b[39mreturn\u001b[39;00m \u001b[39mawait\u001b[39;00m \u001b[39mself\u001b[39m\u001b[39m.\u001b[39m_invoke_internal(kernel, arguments)\n\u001b[1;32m    189\u001b[0m \u001b[39mexcept\u001b[39;00m \u001b[39mException\u001b[39;00m \u001b[39mas\u001b[39;00m exc:\n",
      "File \u001b[0;32m~/Documents/POC/SemanticKernel/.venv/lib/python3.11/site-packages/semantic_kernel/functions/kernel_function_from_method.py:98\u001b[0m, in \u001b[0;36mKernelFunctionFromMethod._invoke_internal\u001b[0;34m(self, kernel, arguments)\u001b[0m\n\u001b[1;32m     97\u001b[0m function_arguments \u001b[39m=\u001b[39m \u001b[39mself\u001b[39m\u001b[39m.\u001b[39mgather_function_parameters(kernel, arguments)\n\u001b[0;32m---> 98\u001b[0m result \u001b[39m=\u001b[39m \u001b[39mself\u001b[39;49m\u001b[39m.\u001b[39;49mmethod(\u001b[39m*\u001b[39;49m\u001b[39m*\u001b[39;49mfunction_arguments)\n\u001b[1;32m     99\u001b[0m \u001b[39mif\u001b[39;00m isasyncgen(result):\n",
      "File \u001b[0;32m~/Documents/POC/SemanticKernel/semantic-kernel-aas/plugins/EmailPlugins/native_function.py:32\u001b[0m, in \u001b[0;36mEmail.send_email\u001b[0;34m(self, recipient, email_body)\u001b[0m\n\u001b[1;32m     31\u001b[0m msg[\u001b[39m'\u001b[39m\u001b[39mTo\u001b[39m\u001b[39m'\u001b[39m] \u001b[39m=\u001b[39m recipient\n\u001b[0;32m---> 32\u001b[0m msg[\u001b[39m'\u001b[39;49m\u001b[39mTo\u001b[39;49m\u001b[39m'\u001b[39;49m] \u001b[39m=\u001b[39m \u001b[39m\"\u001b[39m\u001b[39marfathahmed.syed@publicissapient.com,shrashti.gupta@publicissapient.com\u001b[39m\u001b[39m\"\u001b[39m\n\u001b[1;32m     35\u001b[0m \u001b[39mwith\u001b[39;00m smtplib\u001b[39m.\u001b[39mSMTP_SSL(\u001b[39m'\u001b[39m\u001b[39msmtp.gmail.com\u001b[39m\u001b[39m'\u001b[39m, \u001b[39m465\u001b[39m) \u001b[39mas\u001b[39;00m smtp:\n",
      "File \u001b[0;32m/Library/Frameworks/Python.framework/Versions/3.11/lib/python3.11/email/message.py:434\u001b[0m, in \u001b[0;36mMessage.__setitem__\u001b[0;34m(self, name, val)\u001b[0m\n\u001b[1;32m    433\u001b[0m             \u001b[39mif\u001b[39;00m found \u001b[39m>\u001b[39m\u001b[39m=\u001b[39m max_count:\n\u001b[0;32m--> 434\u001b[0m                 \u001b[39mraise\u001b[39;00m \u001b[39mValueError\u001b[39;00m(\u001b[39m\"\u001b[39m\u001b[39mThere may be at most \u001b[39m\u001b[39m{}\u001b[39;00m\u001b[39m \u001b[39m\u001b[39m{}\u001b[39;00m\u001b[39m headers \u001b[39m\u001b[39m\"\u001b[39m\n\u001b[1;32m    435\u001b[0m                                  \u001b[39m\"\u001b[39m\u001b[39min a message\u001b[39m\u001b[39m\"\u001b[39m\u001b[39m.\u001b[39mformat(max_count, name))\n\u001b[1;32m    436\u001b[0m \u001b[39mself\u001b[39m\u001b[39m.\u001b[39m_headers\u001b[39m.\u001b[39mappend(\u001b[39mself\u001b[39m\u001b[39m.\u001b[39mpolicy\u001b[39m.\u001b[39mheader_store_parse(name, val))\n",
      "\u001b[0;31mValueError\u001b[0m: There may be at most 1 To headers in a message",
      "\nThe above exception was the direct cause of the following exception:\n",
      "\u001b[0;31mKernelInvokeException\u001b[0m                     Traceback (most recent call last)",
      "\u001b[1;32m/Users/arfsyed/Documents/POC/SemanticKernel/semantic-kernel-aas/test.ipynb Cell 5\u001b[0m line \u001b[0;36m1\n\u001b[0;32m----> <a href='vscode-notebook-cell:/Users/arfsyed/Documents/POC/SemanticKernel/semantic-kernel-aas/test.ipynb#W4sZmlsZQ%3D%3D?line=0'>1</a>\u001b[0m \u001b[39mawait\u001b[39;00m kernel\u001b[39m.\u001b[39minvoke(sendplugin[\u001b[39m'\u001b[39m\u001b[39msendEmail\u001b[39m\u001b[39m'\u001b[39m], recipient\u001b[39m=\u001b[39m\u001b[39m\"\u001b[39m\u001b[39mshrashti.gupta@publicissapient.com\u001b[39m\u001b[39m\"\u001b[39m, email_body\u001b[39m=\u001b[39m\u001b[39m\"\u001b[39m\u001b[39mCheck Mail Shrashti\u001b[39m\u001b[39m\"\u001b[39m)\n",
      "File \u001b[0;32m~/Documents/POC/SemanticKernel/.venv/lib/python3.11/site-packages/semantic_kernel/kernel.py:341\u001b[0m, in \u001b[0;36mKernel.invoke\u001b[0;34m(self, functions, arguments, function_name, plugin_name, **kwargs)\u001b[0m\n\u001b[1;32m    338\u001b[0m results\u001b[39m.\u001b[39mappend(function_invoked_args\u001b[39m.\u001b[39mfunction_result)\n\u001b[1;32m    340\u001b[0m \u001b[39mif\u001b[39;00m function_invoked_args\u001b[39m.\u001b[39mexception:\n\u001b[0;32m--> 341\u001b[0m     \u001b[39mraise\u001b[39;00m KernelInvokeException(\n\u001b[1;32m    342\u001b[0m         \u001b[39mf\u001b[39m\u001b[39m\"\u001b[39m\u001b[39mError occurred while invoking function: \u001b[39m\u001b[39m'\u001b[39m\u001b[39m{\u001b[39;00mfunc\u001b[39m.\u001b[39mplugin_name\u001b[39m}\u001b[39;00m\u001b[39m.\u001b[39m\u001b[39m{\u001b[39;00mfunc\u001b[39m.\u001b[39mname\u001b[39m}\u001b[39;00m\u001b[39m'\u001b[39m\u001b[39m\"\u001b[39m\n\u001b[1;32m    343\u001b[0m     ) \u001b[39mfrom\u001b[39;00m \u001b[39mfunction_invoked_args\u001b[39;00m\u001b[39m.\u001b[39;00m\u001b[39mexception\u001b[39;00m\n\u001b[1;32m    344\u001b[0m \u001b[39mif\u001b[39;00m function_invoked_args\u001b[39m.\u001b[39mis_cancel_requested:\n\u001b[1;32m    345\u001b[0m     logger\u001b[39m.\u001b[39minfo(\n\u001b[1;32m    346\u001b[0m         \u001b[39mf\u001b[39m\u001b[39m\"\u001b[39m\u001b[39mExecution was cancelled on function invoked event of pipeline step \u001b[39m\u001b[39m\"\u001b[39m\n\u001b[1;32m    347\u001b[0m         \u001b[39mf\u001b[39m\u001b[39m\"\u001b[39m\u001b[39m{\u001b[39;00mpipeline_step\u001b[39m}\u001b[39;00m\u001b[39m: \u001b[39m\u001b[39m{\u001b[39;00mfunc\u001b[39m.\u001b[39mplugin_name\u001b[39m}\u001b[39;00m\u001b[39m.\u001b[39m\u001b[39m{\u001b[39;00mfunc\u001b[39m.\u001b[39mname\u001b[39m}\u001b[39;00m\u001b[39m.\u001b[39m\u001b[39m\"\u001b[39m\n\u001b[1;32m    348\u001b[0m     )\n",
      "\u001b[0;31mKernelInvokeException\u001b[0m: Error occurred while invoking function: 'EmailPlugins.sendEmail'"
     ]
    }
   ],
   "source": [
    "await kernel.invoke(sendplugin['sendEmail'], recipient=\"shrashti.gupta@publicissapient.com\", email_body=\"Check Mail Shrashti\")"
   ]
  },
  {
   "cell_type": "code",
   "execution_count": 6,
   "metadata": {},
   "outputs": [
    {
     "name": "stderr",
     "output_type": "stream",
     "text": [
      "Overwriting plugin \"StepwisePlanner\" in collection\n"
     ]
    }
   ],
   "source": [
    "from semantic_kernel.planners.stepwise_planner import StepwisePlanner, StepwisePlannerConfig\n",
    "\n",
    "planner = StepwisePlanner(kernel, StepwisePlannerConfig(max_iterations=10, min_iteration_time_ms=1000))"
   ]
  },
  {
   "cell_type": "code",
   "execution_count": 7,
   "metadata": {},
   "outputs": [],
   "source": [
    "plan = planner.create_plan(goal=\"Write an email to Shrashti to ask when she is free to connect.\")"
   ]
  },
  {
   "cell_type": "code",
   "execution_count": 8,
   "metadata": {},
   "outputs": [
    {
     "name": "stderr",
     "output_type": "stream",
     "text": [
      "Error parsing XML of prompt: mismatched tag: line 74, column 64\n",
      "Error parsing XML of prompt: mismatched tag: line 81, column 146\n"
     ]
    }
   ],
   "source": [
    "result = await plan.invoke(kernel)"
   ]
  },
  {
   "cell_type": "code",
   "execution_count": 9,
   "metadata": {},
   "outputs": [
    {
     "data": {
      "text/plain": [
       "{'input': 'The email has been successfully created and sent to Shrashti asking when she is free to connect.',\n",
       " 'PLAN.RESULT': 'The email has been successfully created and sent to Shrashti asking when she is free to connect.'}"
      ]
     },
     "execution_count": 9,
     "metadata": {},
     "output_type": "execute_result"
    }
   ],
   "source": [
    "plan._state"
   ]
  },
  {
   "cell_type": "code",
   "execution_count": null,
   "metadata": {},
   "outputs": [],
   "source": [
    "plan"
   ]
  },
  {
   "cell_type": "code",
   "execution_count": null,
   "metadata": {},
   "outputs": [],
   "source": []
  },
  {
   "cell_type": "code",
   "execution_count": null,
   "metadata": {},
   "outputs": [],
   "source": [
    "for index, step in enumerate(plan._steps):\n",
    "    print(\"Step:\", index)\n",
    "    print(\"Description:\", step.description)\n",
    "    print(\"Function:\", step.plugin_name + \".\" + step._function.name)\n",
    "    print(f\"  Output: {','.join(str(res) for res in result.metadata['results'])}\")"
   ]
  },
  {
   "cell_type": "code",
   "execution_count": null,
   "metadata": {},
   "outputs": [],
   "source": [
    "## will add later\n",
    "prompt = \"\"\"\n",
    "ChatBot can have a conversation with you about any topic.\n",
    "It can give explicit instructions or say 'I don't know' if it does not have an answer.\n",
    "\n",
    "{{$history}}\n",
    "User: {{$user_input}}\n",
    "ChatBot: \"\"\"\n",
    "\n",
    "prompt_template_config = sk.PromptTemplateConfig(\n",
    "    template=prompt,\n",
    "    name=\"chat\",\n",
    "    template_format=\"semantic-kernel\",\n",
    "    input_variables=[\n",
    "        InputVariable(name=\"input\", description=\"The user input\", is_required=True),\n",
    "        InputVariable(name=\"history\", description=\"The conversation history\", is_required=True),\n",
    "    ],\n",
    "    execution_settings=execution_settings,\n",
    ")\n",
    "\n",
    "chat_function = kernel.create_function_from_prompt(\n",
    "    function_name=\"chat\",\n",
    "    plugin_name=\"chatPlugin\",\n",
    "    prompt_template_config=prompt_template_config,\n",
    ")\n",
    "\n",
    "chat_history = ChatHistory()\n",
    "chat_history.add_system_message(\"You are a helpful chatbot who is good at answering everything.\")\n",
    "\n",
    "async def chat(input_text: str) -> None:\n",
    "    # Save new message in the context variables\n",
    "    print(f\"User: {input_text}\")\n",
    "    chat_history.add_user_message(input_text)\n",
    "\n",
    "    # Process the user message and get an answer\n",
    "    # answer = await kernel.invoke(chat_function, KernelArguments(user_input=input_text, history=chat_history))\n",
    "    answer = await kernel.invoke(emailfunction, KernelArguments(user_input=input_text))\n",
    "\n",
    "    # Show the response\n",
    "    print(f\"ChatBot: {answer}\")\n",
    "\n",
    "    chat_history.add_assistant_message(str(answer))\n",
    "    return answer\n",
    "\n",
    "res = await chat(\"Ask everyone to join the call\")"
   ]
  }
 ],
 "metadata": {
  "kernelspec": {
   "display_name": ".venv",
   "language": "python",
   "name": "python3"
  },
  "language_info": {
   "codemirror_mode": {
    "name": "ipython",
    "version": 3
   },
   "file_extension": ".py",
   "mimetype": "text/x-python",
   "name": "python",
   "nbconvert_exporter": "python",
   "pygments_lexer": "ipython3",
   "version": "3.11.6"
  }
 },
 "nbformat": 4,
 "nbformat_minor": 2
}
